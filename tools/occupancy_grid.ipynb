{
 "cells": [
  {
   "cell_type": "code",
   "execution_count": null,
   "metadata": {},
   "outputs": [],
   "source": [
    "# Convert the raw data to occupancy grid"
   ]
  },
  {
   "cell_type": "code",
   "execution_count": 1,
   "metadata": {},
   "outputs": [
    {
     "name": "stderr",
     "output_type": "stream",
     "text": [
      "/home/pengcheng/anaconda3/envs/openpcdet/lib/python3.8/site-packages/tqdm-4.66.1-py3.8.egg/tqdm/auto.py:21: TqdmWarning: IProgress not found. Please update jupyter and ipywidgets. See https://ipywidgets.readthedocs.io/en/stable/user_install.html\n",
      "  from .autonotebook import tqdm as notebook_tqdm\n"
     ]
    }
   ],
   "source": [
    "import os\n",
    "import ctypes\n",
    "import numpy as np\n",
    "from tqdm import tqdm\n",
    "from pathlib import Path\n",
    "import ipdb\n",
    "from pcdet.models import build_network, load_data_to_gpu\n",
    "from pcdet.datasets import build_dataloader\n",
    "from pcdet.config import cfg, cfg_from_yaml_file\n",
    "from pcdet.utils import common_utils"
   ]
  },
  {
   "cell_type": "code",
   "execution_count": 2,
   "metadata": {},
   "outputs": [
    {
     "name": "stderr",
     "output_type": "stream",
     "text": [
      "2023-11-28 17:27:04,476   INFO  Loading Waymo dataset\n"
     ]
    },
    {
     "name": "stderr",
     "output_type": "stream",
     "text": [
      "2023-11-28 17:27:07,213   INFO  Total skipped info 0\n",
      "2023-11-28 17:27:07,216   INFO  Total samples for Waymo dataset: 39987\n"
     ]
    },
    {
     "name": "stdout",
     "output_type": "stream",
     "text": [
      "Total number of samples: \t39987\n"
     ]
    },
    {
     "name": "stderr",
     "output_type": "stream",
     "text": [
      "eval: 100%|██████████| 39987/39987 [40:04<00:00, 26.45it/s]  "
     ]
    },
    {
     "name": "stderr",
     "output_type": "stream",
     "text": [
      "eval: 100%|██████████| 39987/39987 [40:20<00:00, 26.45it/s]"
     ]
    }
   ],
   "source": [
    "# Read the config file\n",
    "config = 'cfgs/waymo_models/centerpoint_dyn_pillar020_1x.yaml'\n",
    "cfg_from_yaml_file(config, cfg)\n",
    "cfg.TAG = Path(config).stem\n",
    "cfg.EXP_GROUP_PATH = '/'.join(config.split('/')[1:-1])  # remove 'cfgs' and 'xxxx.yaml'\n",
    "np.random.seed(1024)\n",
    "os.environ['CUDA_LAUNCH_BLOCKING'] = '1'\n",
    "dist_test = False\n",
    "total_gpus = 1\n",
    "batch_size = 1\n",
    "workers = 4\n",
    "\n",
    "# Create results directory\n",
    "output_dir = cfg.ROOT_DIR / 'output/occupancy_grid/preprocessed_50cm/test/data'\n",
    "output_dir.mkdir(parents=True, exist_ok=True)\n",
    "\n",
    "# Build the dataloader\n",
    "logger = common_utils.create_logger()\n",
    "test_set, test_loader, sampler = build_dataloader(\n",
    "    dataset_cfg=cfg.DATA_CONFIG,\n",
    "    class_names=cfg.CLASS_NAMES,\n",
    "    batch_size=batch_size,\n",
    "    dist=dist_test, workers=workers, logger=logger, training=False)\n",
    "class_names = test_set.class_names\n",
    "print(f'Total number of samples: \\t{len(test_set)}')\n",
    "\n",
    "# Convert the raw data to *bin format\n",
    "progress_bar = tqdm(total=len(test_loader), leave=True, desc='eval', dynamic_ncols=True)\n",
    "for idx, data_dict in enumerate(test_loader):\n",
    "    # print(data_dict['points'])\n",
    "    pc = data_dict['points'][:, 1:]\n",
    "    # for i in tqdm(range(len(pc))):\n",
    "    #     if pc[i][0] == 0:\n",
    "    #         continue\n",
    "    #     else:\n",
    "    #         break\n",
    "    \n",
    "    # ipdb.set_trace()\n",
    "    # print(pc.shape)    \n",
    "    file_name = f\"{idx:05d}.bin\"\n",
    "    file_path = f\"../output/occupancy_grid/preprocessed_50cm/test/data/{file_name}\" \n",
    "    pc.tofile(file_path)\n",
    "    progress_bar.update()\n"
   ]
  },
  {
   "cell_type": "code",
   "execution_count": 13,
   "metadata": {},
   "outputs": [
    {
     "data": {
      "text/plain": [
       "array([[-1.9172607e+01, -6.5429688e-02,  2.9200058e+00,  1.9042969e-01,\n",
       "         1.4931070e+00, -1.0000000e+00],\n",
       "       [-1.7223999e+01, -1.5625000e-02,  2.8512726e+00,  3.5888672e-02,\n",
       "         7.6119177e-02, -1.0000000e+00],\n",
       "       [-1.8926514e+01,  3.2226562e-02,  2.9111710e+00,  1.6308594e-01,\n",
       "         9.3099612e-01, -1.0000000e+00],\n",
       "       ...,\n",
       "       [-1.4748725e+00, -1.2011310e+00,  5.8255494e-03,  2.1362305e-02,\n",
       "         6.3823003e-01, -1.0000000e+00],\n",
       "       [-1.3140347e+00, -1.1765740e+00,  1.5360743e-02,  2.0874023e-02,\n",
       "         9.6027273e-01, -1.0000000e+00],\n",
       "       [-1.1180688e+00, -1.1016902e+00,  2.4845809e-02,  1.4404297e-02,\n",
       "         0.0000000e+00, -1.0000000e+00]], dtype=float32)"
      ]
     },
     "execution_count": 13,
     "metadata": {},
     "output_type": "execute_result"
    }
   ],
   "source": [
    "np.load('../data/waymo/waymo_processed_data_v0_5_0/segment-10017090168044687777_6380_000_6400_000_with_camera_labels/0000.npy')"
   ]
  },
  {
   "cell_type": "code",
   "execution_count": 3,
   "metadata": {},
   "outputs": [
    {
     "name": "stderr",
     "output_type": "stream",
     "text": [
      "100%|██████████| 39987/39987 [35:51<00:00, 18.58it/s]\n"
     ]
    }
   ],
   "source": [
    "import ctypes\n",
    "import glob\n",
    "import os\n",
    "import numpy as np\n",
    "from tqdm import tqdm\n",
    "# Point cloud data N*5\n",
    "# 5 = 3 + 1 + 1 + 1 = points_all, points_intensity, points_elongation\n",
    "\n",
    "\n",
    "# Convert *bin format data to occupancy grid\n",
    "rows = 300\n",
    "cols = 300\n",
    "height = 62\n",
    "data_dir = '../output/occupancy_grid/preprocessed_50cm/test/data'\n",
    "output_dir = '../output/occupancy_grid/preprocessed_50cm/test'\n",
    "os.makedirs(output_dir, exist_ok=True)\n",
    "os.makedirs(os.path.join(output_dir, 'occ'), exist_ok=True)\n",
    "os.makedirs(os.path.join(output_dir, 'intensity'), exist_ok=True)\n",
    "os.makedirs(os.path.join(output_dir, 'elongation'), exist_ok=True)\n",
    "\n",
    "SharedLib = ctypes.cdll.LoadLibrary('./LidarPreprocess.so')\n",
    "frames = sorted(glob.glob(os.path.join(data_dir, '*.bin')))\n",
    "\n",
    "for frame in tqdm(frames):\n",
    "    # Point cloud data N*6\n",
    "    # 5 = 3 + 1 + 1 + 1 = points_all, points_intensity, points_elongation\n",
    "    npdata = np.zeros((rows, cols, height), dtype=np.float32)\n",
    "    cdata = ctypes.c_void_p(npdata.ctypes.data)\n",
    "    apath = bytes(frame, 'utf-8')\n",
    "    SharedLib.createTopViewMaps(cdata, apath)\n",
    "    occ = npdata[..., :height - 2].astype(np.bool)\n",
    "\n",
    "    occ_bits = np.packbits(occ)\n",
    "    intensity = npdata[..., -2].astype(np.float32)\n",
    "    elongation = npdata[..., -1].astype(np.float32)\n",
    "\n",
    "    name = os.path.basename(frame)[:-4]\n",
    "\n",
    "    occ_name = os.path.join(output_dir, 'occ', name + '.npy')\n",
    "    intensity_name = os.path.join(output_dir, 'intensity', name + '.npy')\n",
    "    elongation_name = os.path.join(output_dir, 'elongation', name + '.npy')\n",
    "    \n",
    "    np.save(occ_name, occ_bits)\n",
    "    np.save(intensity_name, intensity)\n",
    "    np.save(elongation_name, elongation)"
   ]
  },
  {
   "cell_type": "code",
   "execution_count": null,
   "metadata": {},
   "outputs": [],
   "source": []
  },
  {
   "cell_type": "code",
   "execution_count": null,
   "metadata": {},
   "outputs": [],
   "source": []
  }
 ],
 "metadata": {
  "kernelspec": {
   "display_name": "openpc3d",
   "language": "python",
   "name": "python3"
  },
  "language_info": {
   "codemirror_mode": {
    "name": "ipython",
    "version": 3
   },
   "file_extension": ".py",
   "mimetype": "text/x-python",
   "name": "python",
   "nbconvert_exporter": "python",
   "pygments_lexer": "ipython3",
   "version": "3.8.18"
  }
 },
 "nbformat": 4,
 "nbformat_minor": 2
}
